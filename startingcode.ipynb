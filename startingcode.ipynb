{
 "cells": [
  {
   "cell_type": "code",
   "execution_count": 5,
   "id": "cfe250f6-09b5-4441-add2-f767de415d28",
   "metadata": {},
   "outputs": [],
   "source": [
    "import numpy as np\n",
    "import pandas as pd\n",
    "import matplotlib.pyplot as plt\n",
    "import yfinance as yf"
   ]
  },
  {
   "cell_type": "code",
   "execution_count": 6,
   "id": "6919f615-d8ed-4b5a-b3de-5ad59c878a6b",
   "metadata": {},
   "outputs": [],
   "source": [
    "start = '2012-01-01'\n",
    "end = '2024-12-25'"
   ]
  },
  {
   "cell_type": "code",
   "execution_count": 7,
   "id": "27a927c7-dee6-451b-8166-33a5f73ffe90",
   "metadata": {},
   "outputs": [],
   "source": [
    "stock= 'GOOG'"
   ]
  },
  {
   "cell_type": "code",
   "execution_count": 8,
   "id": "425c6e79-c607-4862-991a-b0ef92a0b6a6",
   "metadata": {},
   "outputs": [
    {
     "name": "stderr",
     "output_type": "stream",
     "text": [
      "[*********************100%***********************]  1 of 1 completed\n"
     ]
    }
   ],
   "source": [
    "data = yf.download(stock, start, end)\n",
    "\n",
    "data.reset_index(inplace=True)\n",
    "\n",
    "data.dropna(inplace= True)"
   ]
  },
  {
   "cell_type": "code",
   "execution_count": 9,
   "id": "1bc5b7a8-3ccc-4b17-a470-ab2d9dd99394",
   "metadata": {},
   "outputs": [
    {
     "data": {
      "text/html": [
       "<div>\n",
       "<style scoped>\n",
       "    .dataframe tbody tr th:only-of-type {\n",
       "        vertical-align: middle;\n",
       "    }\n",
       "\n",
       "    .dataframe tbody tr th {\n",
       "        vertical-align: top;\n",
       "    }\n",
       "\n",
       "    .dataframe thead tr th {\n",
       "        text-align: left;\n",
       "    }\n",
       "</style>\n",
       "<table border=\"1\" class=\"dataframe\">\n",
       "  <thead>\n",
       "    <tr>\n",
       "      <th>Price</th>\n",
       "      <th>Date</th>\n",
       "      <th>Close</th>\n",
       "      <th>High</th>\n",
       "      <th>Low</th>\n",
       "      <th>Open</th>\n",
       "      <th>Volume</th>\n",
       "    </tr>\n",
       "    <tr>\n",
       "      <th>Ticker</th>\n",
       "      <th></th>\n",
       "      <th>GOOG</th>\n",
       "      <th>GOOG</th>\n",
       "      <th>GOOG</th>\n",
       "      <th>GOOG</th>\n",
       "      <th>GOOG</th>\n",
       "    </tr>\n",
       "  </thead>\n",
       "  <tbody>\n",
       "    <tr>\n",
       "      <th>0</th>\n",
       "      <td>2012-01-03</td>\n",
       "      <td>16.513794</td>\n",
       "      <td>16.581795</td>\n",
       "      <td>16.190173</td>\n",
       "      <td>16.204321</td>\n",
       "      <td>147611217</td>\n",
       "    </tr>\n",
       "    <tr>\n",
       "      <th>1</th>\n",
       "      <td>2012-01-04</td>\n",
       "      <td>16.585020</td>\n",
       "      <td>16.633911</td>\n",
       "      <td>16.394919</td>\n",
       "      <td>16.504364</td>\n",
       "      <td>114989399</td>\n",
       "    </tr>\n",
       "    <tr>\n",
       "      <th>2</th>\n",
       "      <td>2012-01-05</td>\n",
       "      <td>16.354961</td>\n",
       "      <td>16.478056</td>\n",
       "      <td>16.285969</td>\n",
       "      <td>16.432392</td>\n",
       "      <td>131808205</td>\n",
       "    </tr>\n",
       "    <tr>\n",
       "      <th>3</th>\n",
       "      <td>2012-01-06</td>\n",
       "      <td>16.131853</td>\n",
       "      <td>16.379531</td>\n",
       "      <td>16.126144</td>\n",
       "      <td>16.358435</td>\n",
       "      <td>108119746</td>\n",
       "    </tr>\n",
       "    <tr>\n",
       "      <th>4</th>\n",
       "      <td>2012-01-09</td>\n",
       "      <td>15.447884</td>\n",
       "      <td>16.056905</td>\n",
       "      <td>15.417357</td>\n",
       "      <td>16.044495</td>\n",
       "      <td>233776981</td>\n",
       "    </tr>\n",
       "    <tr>\n",
       "      <th>...</th>\n",
       "      <td>...</td>\n",
       "      <td>...</td>\n",
       "      <td>...</td>\n",
       "      <td>...</td>\n",
       "      <td>...</td>\n",
       "      <td>...</td>\n",
       "    </tr>\n",
       "    <tr>\n",
       "      <th>3261</th>\n",
       "      <td>2024-12-18</td>\n",
       "      <td>190.149994</td>\n",
       "      <td>198.690002</td>\n",
       "      <td>189.279999</td>\n",
       "      <td>196.830002</td>\n",
       "      <td>27638400</td>\n",
       "    </tr>\n",
       "    <tr>\n",
       "      <th>3262</th>\n",
       "      <td>2024-12-19</td>\n",
       "      <td>189.699997</td>\n",
       "      <td>194.600006</td>\n",
       "      <td>189.520004</td>\n",
       "      <td>193.279999</td>\n",
       "      <td>26981200</td>\n",
       "    </tr>\n",
       "    <tr>\n",
       "      <th>3263</th>\n",
       "      <td>2024-12-20</td>\n",
       "      <td>192.960007</td>\n",
       "      <td>194.134995</td>\n",
       "      <td>186.369995</td>\n",
       "      <td>187.009995</td>\n",
       "      <td>45319700</td>\n",
       "    </tr>\n",
       "    <tr>\n",
       "      <th>3264</th>\n",
       "      <td>2024-12-23</td>\n",
       "      <td>195.990005</td>\n",
       "      <td>196.490005</td>\n",
       "      <td>191.630005</td>\n",
       "      <td>194.029999</td>\n",
       "      <td>15235900</td>\n",
       "    </tr>\n",
       "    <tr>\n",
       "      <th>3265</th>\n",
       "      <td>2024-12-24</td>\n",
       "      <td>197.570007</td>\n",
       "      <td>197.669998</td>\n",
       "      <td>195.197998</td>\n",
       "      <td>196.169998</td>\n",
       "      <td>6809800</td>\n",
       "    </tr>\n",
       "  </tbody>\n",
       "</table>\n",
       "<p>3266 rows × 6 columns</p>\n",
       "</div>"
      ],
      "text/plain": [
       "Price        Date       Close        High         Low        Open     Volume\n",
       "Ticker                   GOOG        GOOG        GOOG        GOOG       GOOG\n",
       "0      2012-01-03   16.513794   16.581795   16.190173   16.204321  147611217\n",
       "1      2012-01-04   16.585020   16.633911   16.394919   16.504364  114989399\n",
       "2      2012-01-05   16.354961   16.478056   16.285969   16.432392  131808205\n",
       "3      2012-01-06   16.131853   16.379531   16.126144   16.358435  108119746\n",
       "4      2012-01-09   15.447884   16.056905   15.417357   16.044495  233776981\n",
       "...           ...         ...         ...         ...         ...        ...\n",
       "3261   2024-12-18  190.149994  198.690002  189.279999  196.830002   27638400\n",
       "3262   2024-12-19  189.699997  194.600006  189.520004  193.279999   26981200\n",
       "3263   2024-12-20  192.960007  194.134995  186.369995  187.009995   45319700\n",
       "3264   2024-12-23  195.990005  196.490005  191.630005  194.029999   15235900\n",
       "3265   2024-12-24  197.570007  197.669998  195.197998  196.169998    6809800\n",
       "\n",
       "[3266 rows x 6 columns]"
      ]
     },
     "execution_count": 9,
     "metadata": {},
     "output_type": "execute_result"
    }
   ],
   "source": [
    "data"
   ]
  },
  {
   "cell_type": "code",
   "execution_count": 10,
   "id": "0f4b54be-5068-4c28-9126-c83d288552c5",
   "metadata": {},
   "outputs": [
    {
     "data": {
      "image/png": "[encoded data removed]",
      "text/plain": [
       "<Figure size 800x600 with 1 Axes>"
      ]
     },
     "metadata": {},
     "output_type": "display_data"
    }
   ],
   "source": [
    "ma_100_days = data.Close.rolling(100).mean()\n",
    "ma_200_days = data.Close.rolling(200).mean()\n",
    "\n",
    "plt.figure(figsize=(8,6))\n",
    "\n",
    "plt.plot(ma_100_days, 'r')\n",
    "plt.plot(ma_200_days, 'b')\n",
    "plt.plot(data.Close, 'g')\n",
    "plt.show()"
   ]
  },
  {
   "cell_type": "code",
   "execution_count": 11,
   "id": "30c426c0-f2dc-4240-938f-72af21d4f2c6",
   "metadata": {},
   "outputs": [
    {
     "data": {
      "text/plain": [
       "654"
      ]
     },
     "execution_count": 11,
     "metadata": {},
     "output_type": "execute_result"
    }
   ],
   "source": [
    "data_train = pd.DataFrame(data.Close[0: int(len(data)*0.80)])\n",
    "data_test = pd.DataFrame(data.Close[int(len(data)*0.80): len(data)])\n",
    "\n",
    "data_train.shape[0]\n",
    "\n",
    "data_test.shape[0]"
   ]
  },
  {
   "cell_type": "code",
   "execution_count": 19,
   "id": "bd98749b-b267-44d9-9dcd-9de625138b52",
   "metadata": {},
   "outputs": [],
   "source": [
    "from sklearn.preprocessing import MinMaxScaler\n",
    "scaler = MinMaxScaler(feature_range=(0, 1))\n",
    "\n",
    "data_train_scale = scaler.fit_transform(data_train)\n",
    "x = []\n",
    "y = []\n",
    "for i in range(100, data_train_scale.shape[0]):\n",
    "    x.append(data_train_scale[i - 100:i])\n",
    "    y.append(data_train_scale[i, 0])\n",
    "\n",
    "x, y = np.array(x), np.array(y)\n",
    "from tensorflow.keras.layers import Dense, Dropout, LSTM, Input\n",
    "from tensorflow.keras.models import Sequential"
   ]
  },
  {
   "cell_type": "code",
   "execution_count": 20,
   "id": "e8886c45-a2f0-455f-9352-9b941af34ac5",
   "metadata": {},
   "outputs": [],
   "source": [
    "# Create a Sequential model\n",
    "model = Sequential()\n",
    "\n",
    "# Add an Input layer to define the input shape\n",
    "model.add(Input(shape=(x.shape[1], 1)))\n",
    "\n",
    "# Add the LSTM layer\n",
    "model.add(LSTM(units=50, activation='relu', return_sequences=True))\n",
    "\n",
    "# Add a Dropout layer to prevent overfitting\n",
    "model.add(Dropout(0.2))"
   ]
  },
  {
   "cell_type": "code",
   "execution_count": 21,
   "id": "53e159d7-f077-41f1-bd25-367f09b38a9e",
   "metadata": {},
   "outputs": [],
   "source": [
    "model.add(LSTM(units = 60, activation = 'relu', return_sequences = True))\n",
    "model.add(Dropout(0.3))"
   ]
  },
  {
   "cell_type": "code",
   "execution_count": 22,
   "id": "eb803841-95c8-44d7-9ad9-7ac082de8247",
   "metadata": {},
   "outputs": [],
   "source": [
    "model.add(LSTM(units = 80, activation = 'relu', return_sequences = True))\n",
    "model.add(Dropout(0.4))"
   ]
  },
  {
   "cell_type": "code",
   "execution_count": 23,
   "id": "ddc2ccac-db1c-4475-bbad-140ab20c265e",
   "metadata": {},
   "outputs": [],
   "source": [
    "model.add(LSTM(units = 120, activation = 'relu'))\n",
    "model.add(Dropout(0.5))"
   ]
  },
  {
   "cell_type": "code",
   "execution_count": 24,
   "id": "7f31ee62-9fe1-4ba5-a5ca-d618dd14013a",
   "metadata": {},
   "outputs": [],
   "source": [
    "model.add(Dense(units = 1))"
   ]
  },
  {
   "cell_type": "code",
   "execution_count": 25,
   "id": "97eb20b2-1c68-4276-8396-3498a5dd2bd9",
   "metadata": {},
   "outputs": [],
   "source": [
    "model.compile(optimizer = 'adam', loss = 'mean_squared_error')"
   ]
  },
  {
   "cell_type": "code",
   "execution_count": null,
   "id": "cc805c90-58f7-4039-8979-6a81fd472558",
   "metadata": {},
   "outputs": [
    {
     "name": "stdout",
     "output_type": "stream",
     "text": [
      "Epoch 1/50\n",
      "\u001b[1m79/79\u001b[0m \u001b[32m━━━━━━━━━━━━━━━━━━━━\u001b[0m\u001b[37m\u001b[0m \u001b[1m10s\u001b[0m 111ms/step - loss: 0.0500\n",
      "Epoch 2/50\n",
      "\u001b[1m79/79\u001b[0m \u001b[32m━━━━━━━━━━━━━━━━━━━━\u001b[0m\u001b[37m\u001b[0m \u001b[1m9s\u001b[0m 109ms/step - loss: 0.0052\n",
      "Epoch 3/50\n",
      "\u001b[1m42/79\u001b[0m \u001b[32m━━━━━━━━━━\u001b[0m\u001b[37m━━━━━━━━━━\u001b[0m \u001b[1m4s\u001b[0m 111ms/step - loss: 0.0051"
     ]
    }
   ],
   "source": [
    "model.fit(x, y, epochs = 50, batch_size = 32, verbose=1)"
   ]
  },
  {
   "cell_type": "code",
   "execution_count": null,
   "id": "3ca36350-bd01-4c71-bce5-7361ff2dedd6",
   "metadata": {},
   "outputs": [],
   "source": []
  }
 ],
 "metadata": {
  "kernelspec": {
   "display_name": "Python 3 (ipykernel)",
   "language": "python",
   "name": "python3"
  },
  "language_info": {
   "codemirror_mode": {
    "name": "ipython",
    "version": 3
   },
   "file_extension": ".py",
   "mimetype": "text/x-python",
   "name": "python",
   "nbconvert_exporter": "python",
   "pygments_lexer": "ipython3",
   "version": "3.10.6"
  }
 },
 "nbformat": 4,
 "nbformat_minor": 5
}
